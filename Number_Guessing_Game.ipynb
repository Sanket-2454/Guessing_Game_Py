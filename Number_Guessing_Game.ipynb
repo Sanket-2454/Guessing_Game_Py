{
  "nbformat": 4,
  "nbformat_minor": 0,
  "metadata": {
    "colab": {
      "provenance": []
    },
    "kernelspec": {
      "name": "python3",
      "display_name": "Python 3"
    },
    "language_info": {
      "name": "python"
    }
  },
  "cells": [
    {
      "cell_type": "code",
      "execution_count": 6,
      "metadata": {
        "colab": {
          "base_uri": "https://localhost:8080/"
        },
        "id": "HJU1t7fdhMlq",
        "outputId": "f3ef9fb7-9f6c-466e-a16d-95ea574e7b48"
      },
      "outputs": [
        {
          "output_type": "stream",
          "name": "stdout",
          "text": [
            "Guess the number in betwwen 1 to 100 :50\n",
            "Guess the Higher Number\n",
            "Guess the number in betwwen 1 to 100 :80\n",
            "Guess the Lower Number\n",
            "Guess the number in betwwen 1 to 100 :70\n",
            "Guess the Higher Number\n",
            "Guess the number in betwwen 1 to 100 :75\n",
            "Guess the Lower Number\n",
            "Guess the number in betwwen 1 to 100 :73\n",
            "Congratulation ! You Guess Right Number\n",
            "The number of iteration taken to choose right number is to : 5\n"
          ]
        }
      ],
      "source": [
        "import random\n",
        "number_to_guess = random.randint(1,100)\n",
        "counter = 1\n",
        "for i in range(number_to_guess):\n",
        "  try:\n",
        "    guess = int(input(\"Guess the number in betwwen 1 to 100 :\"))\n",
        "\n",
        "    if guess > number_to_guess:\n",
        "      counter += 1\n",
        "      print(\"Guess the Lower Number\")\n",
        "\n",
        "    elif guess < number_to_guess:\n",
        "      counter += 1\n",
        "      print(\"Guess the Higher Number\")\n",
        "\n",
        "    else:\n",
        "      print(\"Congratulation ! You Guess Right Number\")\n",
        "      break\n",
        "\n",
        "  except ValueError:\n",
        "    print(\"Enter the Valid Number\")\n",
        "\n",
        "print(f\"The number of iteration taken to choose right number is to : {counter}\")"
      ]
    },
    {
      "cell_type": "code",
      "source": [],
      "metadata": {
        "id": "B3UNvLAPlT51"
      },
      "execution_count": null,
      "outputs": []
    }
  ]
}